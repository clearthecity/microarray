{
 "cells": [
  {
   "cell_type": "code",
   "execution_count": 1,
   "metadata": {},
   "outputs": [],
   "source": [
    "import numpy as np\n",
    "import matplotlib.pyplot as plt\n",
    "import pandas as pd\n",
    "import sklearn\n",
    "import graphviz"
   ]
  },
  {
   "cell_type": "code",
   "execution_count": 2,
   "metadata": {},
   "outputs": [],
   "source": [
    "from sklearn.metrics import confusion_matrix, plot_confusion_matrix\n",
    "from sklearn.metrics import classification_report\n",
    "\n",
    "from sklearn.model_selection import train_test_split\n",
    "\n",
    "from sklearn.tree import DecisionTreeClassifier\n",
    "from sklearn.tree import export_text\n",
    "from sklearn.tree import export_graphviz"
   ]
  },
  {
   "cell_type": "code",
   "execution_count": 3,
   "metadata": {},
   "outputs": [],
   "source": [
    "np.set_printoptions(precision=2)"
   ]
  },
  {
   "cell_type": "code",
   "execution_count": 4,
   "metadata": {},
   "outputs": [
    {
     "data": {
      "text/html": [
       "<div>\n",
       "<style scoped>\n",
       "    .dataframe tbody tr th:only-of-type {\n",
       "        vertical-align: middle;\n",
       "    }\n",
       "\n",
       "    .dataframe tbody tr th {\n",
       "        vertical-align: top;\n",
       "    }\n",
       "\n",
       "    .dataframe thead th {\n",
       "        text-align: right;\n",
       "    }\n",
       "</style>\n",
       "<table border=\"1\" class=\"dataframe\">\n",
       "  <thead>\n",
       "    <tr style=\"text-align: right;\">\n",
       "      <th></th>\n",
       "      <th>ILMN_1651217</th>\n",
       "      <th>ILMN_1651229</th>\n",
       "      <th>ILMN_1651234</th>\n",
       "      <th>ILMN_1651236</th>\n",
       "      <th>ILMN_1651237</th>\n",
       "      <th>ILMN_1651254</th>\n",
       "      <th>ILMN_1651259</th>\n",
       "      <th>ILMN_1651260</th>\n",
       "      <th>ILMN_1651261</th>\n",
       "      <th>ILMN_1651262</th>\n",
       "      <th>...</th>\n",
       "      <th>ILMN_1815885</th>\n",
       "      <th>ILMN_1815908</th>\n",
       "      <th>ILMN_1815923</th>\n",
       "      <th>ILMN_1815924</th>\n",
       "      <th>ILMN_1815933</th>\n",
       "      <th>ILMN_1815937</th>\n",
       "      <th>ILMN_1815938</th>\n",
       "      <th>ILMN_1815941</th>\n",
       "      <th>ILMN_1815951</th>\n",
       "      <th>CELIAC</th>\n",
       "    </tr>\n",
       "  </thead>\n",
       "  <tbody>\n",
       "    <tr>\n",
       "      <th>0</th>\n",
       "      <td>4.229567</td>\n",
       "      <td>4.802085</td>\n",
       "      <td>4.145582</td>\n",
       "      <td>4.274502</td>\n",
       "      <td>4.268115</td>\n",
       "      <td>6.853804</td>\n",
       "      <td>4.401350</td>\n",
       "      <td>4.123169</td>\n",
       "      <td>4.639975</td>\n",
       "      <td>7.136778</td>\n",
       "      <td>...</td>\n",
       "      <td>4.376735</td>\n",
       "      <td>4.395501</td>\n",
       "      <td>4.338936</td>\n",
       "      <td>5.198647</td>\n",
       "      <td>4.594269</td>\n",
       "      <td>4.264604</td>\n",
       "      <td>4.256310</td>\n",
       "      <td>4.821757</td>\n",
       "      <td>5.005588</td>\n",
       "      <td>1</td>\n",
       "    </tr>\n",
       "    <tr>\n",
       "      <th>1</th>\n",
       "      <td>4.197183</td>\n",
       "      <td>4.820311</td>\n",
       "      <td>4.171221</td>\n",
       "      <td>4.332524</td>\n",
       "      <td>4.186809</td>\n",
       "      <td>6.663657</td>\n",
       "      <td>4.559615</td>\n",
       "      <td>4.278860</td>\n",
       "      <td>4.994493</td>\n",
       "      <td>6.803521</td>\n",
       "      <td>...</td>\n",
       "      <td>4.732124</td>\n",
       "      <td>4.417266</td>\n",
       "      <td>4.656831</td>\n",
       "      <td>4.615440</td>\n",
       "      <td>4.594269</td>\n",
       "      <td>4.336589</td>\n",
       "      <td>4.317376</td>\n",
       "      <td>4.518347</td>\n",
       "      <td>4.308311</td>\n",
       "      <td>1</td>\n",
       "    </tr>\n",
       "    <tr>\n",
       "      <th>2</th>\n",
       "      <td>4.131493</td>\n",
       "      <td>4.640774</td>\n",
       "      <td>4.075849</td>\n",
       "      <td>4.233316</td>\n",
       "      <td>4.334549</td>\n",
       "      <td>6.694727</td>\n",
       "      <td>4.370504</td>\n",
       "      <td>4.169419</td>\n",
       "      <td>5.093272</td>\n",
       "      <td>6.720391</td>\n",
       "      <td>...</td>\n",
       "      <td>4.292552</td>\n",
       "      <td>4.379864</td>\n",
       "      <td>4.211071</td>\n",
       "      <td>5.530672</td>\n",
       "      <td>4.570808</td>\n",
       "      <td>4.379545</td>\n",
       "      <td>4.241886</td>\n",
       "      <td>4.680351</td>\n",
       "      <td>4.780989</td>\n",
       "      <td>1</td>\n",
       "    </tr>\n",
       "    <tr>\n",
       "      <th>3</th>\n",
       "      <td>4.207410</td>\n",
       "      <td>4.508425</td>\n",
       "      <td>4.100585</td>\n",
       "      <td>4.166837</td>\n",
       "      <td>4.530517</td>\n",
       "      <td>6.506971</td>\n",
       "      <td>4.483179</td>\n",
       "      <td>4.242860</td>\n",
       "      <td>5.138309</td>\n",
       "      <td>6.881151</td>\n",
       "      <td>...</td>\n",
       "      <td>4.371180</td>\n",
       "      <td>4.406084</td>\n",
       "      <td>4.186757</td>\n",
       "      <td>5.358646</td>\n",
       "      <td>4.632107</td>\n",
       "      <td>4.282658</td>\n",
       "      <td>4.237614</td>\n",
       "      <td>4.602680</td>\n",
       "      <td>4.637598</td>\n",
       "      <td>1</td>\n",
       "    </tr>\n",
       "    <tr>\n",
       "      <th>4</th>\n",
       "      <td>4.245230</td>\n",
       "      <td>4.538779</td>\n",
       "      <td>4.040637</td>\n",
       "      <td>4.266853</td>\n",
       "      <td>4.326313</td>\n",
       "      <td>6.774611</td>\n",
       "      <td>4.409940</td>\n",
       "      <td>4.228860</td>\n",
       "      <td>4.948306</td>\n",
       "      <td>6.847382</td>\n",
       "      <td>...</td>\n",
       "      <td>4.345227</td>\n",
       "      <td>4.488653</td>\n",
       "      <td>4.364008</td>\n",
       "      <td>5.605900</td>\n",
       "      <td>4.624200</td>\n",
       "      <td>4.275774</td>\n",
       "      <td>4.251683</td>\n",
       "      <td>4.686359</td>\n",
       "      <td>4.687048</td>\n",
       "      <td>1</td>\n",
       "    </tr>\n",
       "  </tbody>\n",
       "</table>\n",
       "<p>5 rows × 18982 columns</p>\n",
       "</div>"
      ],
      "text/plain": [
       "   ILMN_1651217  ILMN_1651229  ILMN_1651234  ILMN_1651236  ILMN_1651237  \\\n",
       "0      4.229567      4.802085      4.145582      4.274502      4.268115   \n",
       "1      4.197183      4.820311      4.171221      4.332524      4.186809   \n",
       "2      4.131493      4.640774      4.075849      4.233316      4.334549   \n",
       "3      4.207410      4.508425      4.100585      4.166837      4.530517   \n",
       "4      4.245230      4.538779      4.040637      4.266853      4.326313   \n",
       "\n",
       "   ILMN_1651254  ILMN_1651259  ILMN_1651260  ILMN_1651261  ILMN_1651262  ...  \\\n",
       "0      6.853804      4.401350      4.123169      4.639975      7.136778  ...   \n",
       "1      6.663657      4.559615      4.278860      4.994493      6.803521  ...   \n",
       "2      6.694727      4.370504      4.169419      5.093272      6.720391  ...   \n",
       "3      6.506971      4.483179      4.242860      5.138309      6.881151  ...   \n",
       "4      6.774611      4.409940      4.228860      4.948306      6.847382  ...   \n",
       "\n",
       "   ILMN_1815885  ILMN_1815908  ILMN_1815923  ILMN_1815924  ILMN_1815933  \\\n",
       "0      4.376735      4.395501      4.338936      5.198647      4.594269   \n",
       "1      4.732124      4.417266      4.656831      4.615440      4.594269   \n",
       "2      4.292552      4.379864      4.211071      5.530672      4.570808   \n",
       "3      4.371180      4.406084      4.186757      5.358646      4.632107   \n",
       "4      4.345227      4.488653      4.364008      5.605900      4.624200   \n",
       "\n",
       "   ILMN_1815937  ILMN_1815938  ILMN_1815941  ILMN_1815951  CELIAC  \n",
       "0      4.264604      4.256310      4.821757      5.005588       1  \n",
       "1      4.336589      4.317376      4.518347      4.308311       1  \n",
       "2      4.379545      4.241886      4.680351      4.780989       1  \n",
       "3      4.282658      4.237614      4.602680      4.637598       1  \n",
       "4      4.275774      4.251683      4.686359      4.687048       1  \n",
       "\n",
       "[5 rows x 18982 columns]"
      ]
     },
     "execution_count": 4,
     "metadata": {},
     "output_type": "execute_result"
    }
   ],
   "source": [
    "df = pd.read_csv('all_samples.csv')\n",
    "df.drop(columns=['Unnamed: 0', 'name'], inplace=True)\n",
    "df.head()"
   ]
  },
  {
   "cell_type": "code",
   "execution_count": 5,
   "metadata": {},
   "outputs": [],
   "source": [
    "input_cols = list(df.columns[:-1])\n",
    "inputs = df[input_cols]\n",
    "target = df['CELIAC']"
   ]
  },
  {
   "cell_type": "code",
   "execution_count": 6,
   "metadata": {},
   "outputs": [],
   "source": [
    "X_train, X_test, Y_train, Y_test = train_test_split(inputs, target, stratify=target)\n",
    "# default test/train split 75/25"
   ]
  },
  {
   "cell_type": "code",
   "execution_count": 7,
   "metadata": {},
   "outputs": [],
   "source": [
    "tree_gini = DecisionTreeClassifier(random_state=0)\n",
    "tree_entropy = DecisionTreeClassifier(criterion='entropy', random_state=0)"
   ]
  },
  {
   "cell_type": "code",
   "execution_count": 8,
   "metadata": {},
   "outputs": [],
   "source": [
    "models = [('Gini', tree_gini), \n",
    "          ('Entropy', tree_entropy)\n",
    "         ]"
   ]
  },
  {
   "cell_type": "code",
   "execution_count": 9,
   "metadata": {},
   "outputs": [
    {
     "name": "stdout",
     "output_type": "stream",
     "text": [
      "Gini\n",
      "              precision    recall  f1-score   support\n",
      "\n",
      "           0       0.14      0.17      0.15         6\n",
      "           1       0.81      0.78      0.79        27\n",
      "\n",
      "    accuracy                           0.67        33\n",
      "   macro avg       0.48      0.47      0.47        33\n",
      "weighted avg       0.69      0.67      0.68        33\n",
      "\n",
      "[[0.03 0.15]\n",
      " [0.18 0.64]]\n",
      "\n",
      "\n",
      "Entropy\n",
      "              precision    recall  f1-score   support\n",
      "\n",
      "           0       0.60      0.50      0.55         6\n",
      "           1       0.89      0.93      0.91        27\n",
      "\n",
      "    accuracy                           0.85        33\n",
      "   macro avg       0.75      0.71      0.73        33\n",
      "weighted avg       0.84      0.85      0.84        33\n",
      "\n",
      "[[0.09 0.09]\n",
      " [0.06 0.76]]\n",
      "\n",
      "\n"
     ]
    }
   ],
   "source": [
    "# precision = TP / (TP + FP)\n",
    "# recall = TP / (TP + FN)\n",
    "# f1-score: harmonic mean of precision and recall\n",
    "\n",
    "for name, model in models:\n",
    "    print(name)\n",
    "    model = model.fit(X_train, Y_train)\n",
    "    prediction = model.predict(X_test)\n",
    "    print(classification_report(Y_test, prediction,\n",
    "                               zero_division=0))\n",
    "    print(confusion_matrix(Y_test, prediction, \n",
    "                           labels=model.classes_,\n",
    "                          normalize='all'))\n",
    "    print('\\n')"
   ]
  },
  {
   "cell_type": "code",
   "execution_count": 10,
   "metadata": {},
   "outputs": [],
   "source": [
    "# Use entropy (information gain)\n",
    "# All examples (no test/train split)\n",
    "tree = DecisionTreeClassifier(criterion='entropy', random_state=0)\n",
    "tree = tree.fit(inputs, target)"
   ]
  },
  {
   "cell_type": "code",
   "execution_count": 11,
   "metadata": {},
   "outputs": [
    {
     "name": "stdout",
     "output_type": "stream",
     "text": [
      "|--- ILMN_1716080 <= 5.52\n",
      "|   |--- ILMN_1705686 <= 5.70\n",
      "|   |   |--- class: 0\n",
      "|   |--- ILMN_1705686 >  5.70\n",
      "|   |   |--- class: 1\n",
      "|--- ILMN_1716080 >  5.52\n",
      "|   |--- ILMN_1752895 <= 5.18\n",
      "|   |   |--- class: 0\n",
      "|   |--- ILMN_1752895 >  5.18\n",
      "|   |   |--- ILMN_1754325 <= 5.52\n",
      "|   |   |   |--- ILMN_1725346 <= 4.23\n",
      "|   |   |   |   |--- class: 1\n",
      "|   |   |   |--- ILMN_1725346 >  4.23\n",
      "|   |   |   |   |--- class: 0\n",
      "|   |   |--- ILMN_1754325 >  5.52\n",
      "|   |   |   |--- class: 0\n",
      "\n"
     ]
    }
   ],
   "source": [
    "txt = export_text(tree, feature_names=list(df.columns[:-1]))\n",
    "print(txt)"
   ]
  },
  {
   "cell_type": "code",
   "execution_count": 13,
   "metadata": {},
   "outputs": [],
   "source": [
    "g = export_graphviz(tree, out_file=None,\n",
    "                   class_names=True,\n",
    "                   feature_names=list(df.columns[:-1]),\n",
    "                   filled=True)"
   ]
  },
  {
   "cell_type": "code",
   "execution_count": 14,
   "metadata": {},
   "outputs": [],
   "source": [
    "graph = graphviz.Source(g)"
   ]
  },
  {
   "cell_type": "code",
   "execution_count": 15,
   "metadata": {},
   "outputs": [
    {
     "data": {
      "text/plain": [
       "'celiac_tree_allsamples.pdf'"
      ]
     },
     "execution_count": 15,
     "metadata": {},
     "output_type": "execute_result"
    }
   ],
   "source": [
    "# graph.render(\"celiac_tree\")\n",
    "graph.render(\"celiac_tree_allsamples\")"
   ]
  },
  {
   "cell_type": "code",
   "execution_count": 16,
   "metadata": {},
   "outputs": [
    {
     "data": {
      "text/html": [
       "<div>\n",
       "<style scoped>\n",
       "    .dataframe tbody tr th:only-of-type {\n",
       "        vertical-align: middle;\n",
       "    }\n",
       "\n",
       "    .dataframe tbody tr th {\n",
       "        vertical-align: top;\n",
       "    }\n",
       "\n",
       "    .dataframe thead th {\n",
       "        text-align: right;\n",
       "    }\n",
       "</style>\n",
       "<table border=\"1\" class=\"dataframe\">\n",
       "  <thead>\n",
       "    <tr style=\"text-align: right;\">\n",
       "      <th></th>\n",
       "      <th>ID</th>\n",
       "      <th>RefSeq_ID</th>\n",
       "      <th>Symbol</th>\n",
       "      <th>Definition</th>\n",
       "    </tr>\n",
       "  </thead>\n",
       "  <tbody>\n",
       "    <tr>\n",
       "      <th>0</th>\n",
       "      <td>ILMN_1698220</td>\n",
       "      <td>NM_020432.2</td>\n",
       "      <td>PHTF2</td>\n",
       "      <td>Homo sapiens putative homeodomain transcriptio...</td>\n",
       "    </tr>\n",
       "    <tr>\n",
       "      <th>1</th>\n",
       "      <td>ILMN_1810835</td>\n",
       "      <td>NM_005416.1</td>\n",
       "      <td>SPRR3</td>\n",
       "      <td>Homo sapiens small proline-rich protein 3 (SPR...</td>\n",
       "    </tr>\n",
       "    <tr>\n",
       "      <th>2</th>\n",
       "      <td>ILMN_1782944</td>\n",
       "      <td>NM_004767.2</td>\n",
       "      <td>GPR37L1</td>\n",
       "      <td>Homo sapiens G protein-coupled receptor 37 lik...</td>\n",
       "    </tr>\n",
       "    <tr>\n",
       "      <th>3</th>\n",
       "      <td>ILMN_1692858</td>\n",
       "      <td>NM_012173.3</td>\n",
       "      <td>FBXO25</td>\n",
       "      <td>Homo sapiens F-box protein 25 (FBXO25), transc...</td>\n",
       "    </tr>\n",
       "    <tr>\n",
       "      <th>4</th>\n",
       "      <td>ILMN_1668162</td>\n",
       "      <td>NM_001013579.1</td>\n",
       "      <td>DGAT2L3</td>\n",
       "      <td>Homo sapiens diacylglycerol O-acyltransferase ...</td>\n",
       "    </tr>\n",
       "  </tbody>\n",
       "</table>\n",
       "</div>"
      ],
      "text/plain": [
       "             ID       RefSeq_ID   Symbol  \\\n",
       "0  ILMN_1698220     NM_020432.2    PHTF2   \n",
       "1  ILMN_1810835     NM_005416.1    SPRR3   \n",
       "2  ILMN_1782944     NM_004767.2  GPR37L1   \n",
       "3  ILMN_1692858     NM_012173.3   FBXO25   \n",
       "4  ILMN_1668162  NM_001013579.1  DGAT2L3   \n",
       "\n",
       "                                          Definition  \n",
       "0  Homo sapiens putative homeodomain transcriptio...  \n",
       "1  Homo sapiens small proline-rich protein 3 (SPR...  \n",
       "2  Homo sapiens G protein-coupled receptor 37 lik...  \n",
       "3  Homo sapiens F-box protein 25 (FBXO25), transc...  \n",
       "4  Homo sapiens diacylglycerol O-acyltransferase ...  "
      ]
     },
     "execution_count": 16,
     "metadata": {},
     "output_type": "execute_result"
    }
   ],
   "source": [
    "lookup = pd.read_csv('gene_lookup.csv')\n",
    "lookup.drop(columns=['Unnamed: 0'], inplace=True)\n",
    "lookup.head()"
   ]
  },
  {
   "cell_type": "code",
   "execution_count": 19,
   "metadata": {},
   "outputs": [],
   "source": [
    "q = lookup[lookup['ID'] == 'ILMN_1716080']"
   ]
  },
  {
   "cell_type": "code",
   "execution_count": 20,
   "metadata": {},
   "outputs": [
    {
     "data": {
      "text/plain": [
       "' CBL'"
      ]
     },
     "execution_count": 20,
     "metadata": {},
     "output_type": "execute_result"
    }
   ],
   "source": [
    "q['Symbol'].to_string(index=False)"
   ]
  },
  {
   "cell_type": "code",
   "execution_count": 21,
   "metadata": {},
   "outputs": [],
   "source": [
    "def probe_to_gene(probe: str) -> str:\n",
    "    q = lookup[lookup['ID'] == probe]\n",
    "    if len(q) > 0:\n",
    "        return q['Symbol'].to_string(index=False)\n",
    "    return \"?\""
   ]
  },
  {
   "cell_type": "code",
   "execution_count": 22,
   "metadata": {},
   "outputs": [],
   "source": [
    "gene_symbols = [probe_to_gene(p) for p in list(df.columns[:-1])]"
   ]
  },
  {
   "cell_type": "code",
   "execution_count": 24,
   "metadata": {},
   "outputs": [
    {
     "data": {
      "text/plain": [
       "[' PDCD1LG2', ' IPO13', ' SYT14']"
      ]
     },
     "execution_count": 24,
     "metadata": {},
     "output_type": "execute_result"
    }
   ],
   "source": [
    "gene_symbols[:3]"
   ]
  },
  {
   "cell_type": "code",
   "execution_count": 26,
   "metadata": {},
   "outputs": [],
   "source": [
    "g = export_graphviz(tree, out_file=None,\n",
    "                    class_names=True,\n",
    "                    feature_names=gene_symbols,\n",
    "                    filled=True)"
   ]
  },
  {
   "cell_type": "code",
   "execution_count": 27,
   "metadata": {},
   "outputs": [],
   "source": [
    "graph = graphviz.Source(g)"
   ]
  },
  {
   "cell_type": "code",
   "execution_count": 28,
   "metadata": {},
   "outputs": [
    {
     "data": {
      "text/plain": [
       "'celiac_tree_allsamples_genes.pdf'"
      ]
     },
     "execution_count": 28,
     "metadata": {},
     "output_type": "execute_result"
    }
   ],
   "source": [
    "graph.render(\"celiac_tree_allsamples_genes\")"
   ]
  },
  {
   "cell_type": "code",
   "execution_count": null,
   "metadata": {},
   "outputs": [],
   "source": []
  }
 ],
 "metadata": {
  "kernelspec": {
   "display_name": "Python 3",
   "language": "python",
   "name": "python3"
  },
  "language_info": {
   "codemirror_mode": {
    "name": "ipython",
    "version": 3
   },
   "file_extension": ".py",
   "mimetype": "text/x-python",
   "name": "python",
   "nbconvert_exporter": "python",
   "pygments_lexer": "ipython3",
   "version": "3.7.4"
  }
 },
 "nbformat": 4,
 "nbformat_minor": 4
}
