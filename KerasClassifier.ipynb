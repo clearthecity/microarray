{
 "cells": [
  {
   "cell_type": "code",
   "execution_count": 22,
   "metadata": {},
   "outputs": [],
   "source": [
    "import numpy as np\n",
    "import matplotlib.pyplot as plt\n",
    "import pandas as pd\n",
    "import sklearn\n",
    "import tensorflow as tf\n",
    "from sklearn.model_selection import train_test_split\n",
    "from tensorflow import keras\n",
    "from tensorflow import feature_column"
   ]
  },
  {
   "cell_type": "code",
   "execution_count": 2,
   "metadata": {},
   "outputs": [],
   "source": [
    "np.set_printoptions(precision=2)"
   ]
  },
  {
   "cell_type": "code",
   "execution_count": 3,
   "metadata": {},
   "outputs": [
    {
     "data": {
      "text/html": [
       "<div>\n",
       "<style scoped>\n",
       "    .dataframe tbody tr th:only-of-type {\n",
       "        vertical-align: middle;\n",
       "    }\n",
       "\n",
       "    .dataframe tbody tr th {\n",
       "        vertical-align: top;\n",
       "    }\n",
       "\n",
       "    .dataframe thead th {\n",
       "        text-align: right;\n",
       "    }\n",
       "</style>\n",
       "<table border=\"1\" class=\"dataframe\">\n",
       "  <thead>\n",
       "    <tr style=\"text-align: right;\">\n",
       "      <th></th>\n",
       "      <th>ILMN_1651217</th>\n",
       "      <th>ILMN_1651229</th>\n",
       "      <th>ILMN_1651234</th>\n",
       "      <th>ILMN_1651236</th>\n",
       "      <th>ILMN_1651237</th>\n",
       "      <th>ILMN_1651254</th>\n",
       "      <th>ILMN_1651259</th>\n",
       "      <th>ILMN_1651260</th>\n",
       "      <th>ILMN_1651261</th>\n",
       "      <th>ILMN_1651262</th>\n",
       "      <th>...</th>\n",
       "      <th>ILMN_1815885</th>\n",
       "      <th>ILMN_1815908</th>\n",
       "      <th>ILMN_1815923</th>\n",
       "      <th>ILMN_1815924</th>\n",
       "      <th>ILMN_1815933</th>\n",
       "      <th>ILMN_1815937</th>\n",
       "      <th>ILMN_1815938</th>\n",
       "      <th>ILMN_1815941</th>\n",
       "      <th>ILMN_1815951</th>\n",
       "      <th>CELIAC</th>\n",
       "    </tr>\n",
       "  </thead>\n",
       "  <tbody>\n",
       "    <tr>\n",
       "      <th>0</th>\n",
       "      <td>4.229567</td>\n",
       "      <td>4.802085</td>\n",
       "      <td>4.145582</td>\n",
       "      <td>4.274502</td>\n",
       "      <td>4.268115</td>\n",
       "      <td>6.853804</td>\n",
       "      <td>4.401350</td>\n",
       "      <td>4.123169</td>\n",
       "      <td>4.639975</td>\n",
       "      <td>7.136778</td>\n",
       "      <td>...</td>\n",
       "      <td>4.376735</td>\n",
       "      <td>4.395501</td>\n",
       "      <td>4.338936</td>\n",
       "      <td>5.198647</td>\n",
       "      <td>4.594269</td>\n",
       "      <td>4.264604</td>\n",
       "      <td>4.256310</td>\n",
       "      <td>4.821757</td>\n",
       "      <td>5.005588</td>\n",
       "      <td>1</td>\n",
       "    </tr>\n",
       "    <tr>\n",
       "      <th>1</th>\n",
       "      <td>4.197183</td>\n",
       "      <td>4.820311</td>\n",
       "      <td>4.171221</td>\n",
       "      <td>4.332524</td>\n",
       "      <td>4.186809</td>\n",
       "      <td>6.663657</td>\n",
       "      <td>4.559615</td>\n",
       "      <td>4.278860</td>\n",
       "      <td>4.994493</td>\n",
       "      <td>6.803521</td>\n",
       "      <td>...</td>\n",
       "      <td>4.732124</td>\n",
       "      <td>4.417266</td>\n",
       "      <td>4.656831</td>\n",
       "      <td>4.615440</td>\n",
       "      <td>4.594269</td>\n",
       "      <td>4.336589</td>\n",
       "      <td>4.317376</td>\n",
       "      <td>4.518347</td>\n",
       "      <td>4.308311</td>\n",
       "      <td>1</td>\n",
       "    </tr>\n",
       "    <tr>\n",
       "      <th>2</th>\n",
       "      <td>4.131493</td>\n",
       "      <td>4.640774</td>\n",
       "      <td>4.075849</td>\n",
       "      <td>4.233316</td>\n",
       "      <td>4.334549</td>\n",
       "      <td>6.694727</td>\n",
       "      <td>4.370504</td>\n",
       "      <td>4.169419</td>\n",
       "      <td>5.093272</td>\n",
       "      <td>6.720391</td>\n",
       "      <td>...</td>\n",
       "      <td>4.292552</td>\n",
       "      <td>4.379864</td>\n",
       "      <td>4.211071</td>\n",
       "      <td>5.530672</td>\n",
       "      <td>4.570808</td>\n",
       "      <td>4.379545</td>\n",
       "      <td>4.241886</td>\n",
       "      <td>4.680351</td>\n",
       "      <td>4.780989</td>\n",
       "      <td>1</td>\n",
       "    </tr>\n",
       "    <tr>\n",
       "      <th>3</th>\n",
       "      <td>4.207410</td>\n",
       "      <td>4.508425</td>\n",
       "      <td>4.100585</td>\n",
       "      <td>4.166837</td>\n",
       "      <td>4.530517</td>\n",
       "      <td>6.506971</td>\n",
       "      <td>4.483179</td>\n",
       "      <td>4.242860</td>\n",
       "      <td>5.138309</td>\n",
       "      <td>6.881151</td>\n",
       "      <td>...</td>\n",
       "      <td>4.371180</td>\n",
       "      <td>4.406084</td>\n",
       "      <td>4.186757</td>\n",
       "      <td>5.358646</td>\n",
       "      <td>4.632107</td>\n",
       "      <td>4.282658</td>\n",
       "      <td>4.237614</td>\n",
       "      <td>4.602680</td>\n",
       "      <td>4.637598</td>\n",
       "      <td>1</td>\n",
       "    </tr>\n",
       "    <tr>\n",
       "      <th>4</th>\n",
       "      <td>4.245230</td>\n",
       "      <td>4.538779</td>\n",
       "      <td>4.040637</td>\n",
       "      <td>4.266853</td>\n",
       "      <td>4.326313</td>\n",
       "      <td>6.774611</td>\n",
       "      <td>4.409940</td>\n",
       "      <td>4.228860</td>\n",
       "      <td>4.948306</td>\n",
       "      <td>6.847382</td>\n",
       "      <td>...</td>\n",
       "      <td>4.345227</td>\n",
       "      <td>4.488653</td>\n",
       "      <td>4.364008</td>\n",
       "      <td>5.605900</td>\n",
       "      <td>4.624200</td>\n",
       "      <td>4.275774</td>\n",
       "      <td>4.251683</td>\n",
       "      <td>4.686359</td>\n",
       "      <td>4.687048</td>\n",
       "      <td>1</td>\n",
       "    </tr>\n",
       "  </tbody>\n",
       "</table>\n",
       "<p>5 rows × 18982 columns</p>\n",
       "</div>"
      ],
      "text/plain": [
       "   ILMN_1651217  ILMN_1651229  ILMN_1651234  ILMN_1651236  ILMN_1651237  \\\n",
       "0      4.229567      4.802085      4.145582      4.274502      4.268115   \n",
       "1      4.197183      4.820311      4.171221      4.332524      4.186809   \n",
       "2      4.131493      4.640774      4.075849      4.233316      4.334549   \n",
       "3      4.207410      4.508425      4.100585      4.166837      4.530517   \n",
       "4      4.245230      4.538779      4.040637      4.266853      4.326313   \n",
       "\n",
       "   ILMN_1651254  ILMN_1651259  ILMN_1651260  ILMN_1651261  ILMN_1651262  ...  \\\n",
       "0      6.853804      4.401350      4.123169      4.639975      7.136778  ...   \n",
       "1      6.663657      4.559615      4.278860      4.994493      6.803521  ...   \n",
       "2      6.694727      4.370504      4.169419      5.093272      6.720391  ...   \n",
       "3      6.506971      4.483179      4.242860      5.138309      6.881151  ...   \n",
       "4      6.774611      4.409940      4.228860      4.948306      6.847382  ...   \n",
       "\n",
       "   ILMN_1815885  ILMN_1815908  ILMN_1815923  ILMN_1815924  ILMN_1815933  \\\n",
       "0      4.376735      4.395501      4.338936      5.198647      4.594269   \n",
       "1      4.732124      4.417266      4.656831      4.615440      4.594269   \n",
       "2      4.292552      4.379864      4.211071      5.530672      4.570808   \n",
       "3      4.371180      4.406084      4.186757      5.358646      4.632107   \n",
       "4      4.345227      4.488653      4.364008      5.605900      4.624200   \n",
       "\n",
       "   ILMN_1815937  ILMN_1815938  ILMN_1815941  ILMN_1815951  CELIAC  \n",
       "0      4.264604      4.256310      4.821757      5.005588       1  \n",
       "1      4.336589      4.317376      4.518347      4.308311       1  \n",
       "2      4.379545      4.241886      4.680351      4.780989       1  \n",
       "3      4.282658      4.237614      4.602680      4.637598       1  \n",
       "4      4.275774      4.251683      4.686359      4.687048       1  \n",
       "\n",
       "[5 rows x 18982 columns]"
      ]
     },
     "execution_count": 3,
     "metadata": {},
     "output_type": "execute_result"
    }
   ],
   "source": [
    "df = pd.read_csv('all_samples.csv')\n",
    "df.drop(columns=['Unnamed: 0', 'name'], inplace=True)\n",
    "df.head()"
   ]
  },
  {
   "cell_type": "code",
   "execution_count": 4,
   "metadata": {},
   "outputs": [],
   "source": [
    "input_cols = list(df.columns[:-1])\n",
    "inputs = df[input_cols]\n",
    "target = df['CELIAC']"
   ]
  },
  {
   "cell_type": "code",
   "execution_count": 14,
   "metadata": {},
   "outputs": [
    {
     "name": "stdout",
     "output_type": "stream",
     "text": [
      "105 training examples\n",
      "27 test examples\n"
     ]
    }
   ],
   "source": [
    "# X_train, X_test, Y_train, Y_test = train_test_split(inputs, target, stratify=target)\n",
    "train, test = train_test_split(df, test_size=0.2, stratify=target)\n",
    "print(len(train), 'training examples')\n",
    "print(len(test), 'test examples')"
   ]
  },
  {
   "cell_type": "code",
   "execution_count": 10,
   "metadata": {},
   "outputs": [],
   "source": [
    "# A utility method to create a tf.data dataset from a Pandas Dataframe\n",
    "# source: https://www.tensorflow.org/tutorials/structured_data/feature_columns\n",
    "def df_to_dataset(dataframe, shuffle=True, batch_size=32):\n",
    "  dataframe = dataframe.copy()\n",
    "  labels = dataframe.pop('CELIAC')\n",
    "  ds = tf.data.Dataset.from_tensor_slices((dict(dataframe), labels))\n",
    "  if shuffle:\n",
    "    ds = ds.shuffle(buffer_size=len(dataframe))\n",
    "  ds = ds.batch(batch_size)\n",
    "  return ds"
   ]
  },
  {
   "cell_type": "code",
   "execution_count": 15,
   "metadata": {},
   "outputs": [],
   "source": [
    "train_ds = df_to_dataset(train)\n",
    "test_ds = df_to_dataset(test)"
   ]
  },
  {
   "cell_type": "code",
   "execution_count": 16,
   "metadata": {},
   "outputs": [
    {
     "name": "stdout",
     "output_type": "stream",
     "text": [
      "10 features: ['ILMN_1651217', 'ILMN_1651229', 'ILMN_1651234', 'ILMN_1651236', 'ILMN_1651237', 'ILMN_1651254', 'ILMN_1651259', 'ILMN_1651260', 'ILMN_1651261', 'ILMN_1651262']\n",
      "A batch of targets: tf.Tensor([1 1 1 1 1 1 1 1 0 1 1 1 1 1 1 1 1 1 1 1 1 1 0 1 1 1 1 1 1 1 0 0], shape=(32,), dtype=int32)\n"
     ]
    }
   ],
   "source": [
    "for feature_batch, label_batch in train_ds.take(1):\n",
    "  print('10 features:', list(feature_batch.keys())[:10])\n",
    "  print('A batch of targets:', label_batch )"
   ]
  },
  {
   "cell_type": "code",
   "execution_count": 23,
   "metadata": {},
   "outputs": [],
   "source": [
    "feature_columns = [feature_column.numeric_column(h) for h in input_cols]"
   ]
  },
  {
   "cell_type": "code",
   "execution_count": 24,
   "metadata": {},
   "outputs": [
    {
     "data": {
      "text/plain": [
       "NumericColumn(key='ILMN_1651217', shape=(1,), default_value=None, dtype=tf.float32, normalizer_fn=None)"
      ]
     },
     "execution_count": 24,
     "metadata": {},
     "output_type": "execute_result"
    }
   ],
   "source": [
    "feature_columns[0]"
   ]
  },
  {
   "cell_type": "code",
   "execution_count": 25,
   "metadata": {},
   "outputs": [],
   "source": [
    "feature_layer = keras.layers.DenseFeatures(feature_columns)"
   ]
  },
  {
   "cell_type": "code",
   "execution_count": null,
   "metadata": {},
   "outputs": [],
   "source": [
    "# https://www.tensorflow.org/tutorials/structured_data/imbalanced_data\n",
    "metrics = [\n",
    "      keras.metrics.TruePositives(name='tp'),\n",
    "      keras.metrics.FalsePositives(name='fp'),\n",
    "      keras.metrics.TrueNegatives(name='tn'),\n",
    "      keras.metrics.FalseNegatives(name='fn'), \n",
    "      keras.metrics.BinaryAccuracy(name='accuracy'),\n",
    "      keras.metrics.Precision(name='precision'),\n",
    "      keras.metrics.Recall(name='recall'),\n",
    "      keras.metrics.AUC(name='auc'),\n",
    "]"
   ]
  },
  {
   "cell_type": "code",
   "execution_count": null,
   "metadata": {},
   "outputs": [],
   "source": [
    "# we will determine bias after training runs\n",
    "def make_model(output_bias=None):\n",
    "    if output_bias is not None:\n",
    "        output_bias = tf.keras.initializers.Constant(output_bias)\n",
    "        \n",
    "    model = tf.keras.Sequential([\n",
    "        feature_layer,\n",
    "        layers.Dense(64, activation='relu'),\n",
    "        layers.Dropout(0.5),\n",
    "        layers.Dense(1, activation='sigmoid',\n",
    "                     bias_initializer=output_bias)\n",
    "    \n",
    "    model.compile(optimizer='adam',\n",
    "                  loss=tf.keras.losses.BinaryCrossentropy(from_logits=True),\n",
    "                  metrics=metrics)\n",
    "    return model\n",
    "])"
   ]
  },
  {
   "cell_type": "code",
   "execution_count": null,
   "metadata": {},
   "outputs": [],
   "source": [
    "early_stopping = tf.keras.callbacks.EarlyStopping(\n",
    "    monitor='val_auc', \n",
    "    verbose=1,\n",
    "    patience=10,\n",
    "    mode='max',\n",
    "    restore_best_weights=True)"
   ]
  },
  {
   "cell_type": "code",
   "execution_count": null,
   "metadata": {},
   "outputs": [],
   "source": [
    "make_model()\n",
    "model.summary()"
   ]
  },
  {
   "cell_type": "code",
   "execution_count": null,
   "metadata": {},
   "outputs": [],
   "source": []
  }
 ],
 "metadata": {
  "kernelspec": {
   "display_name": "Python 3",
   "language": "python",
   "name": "python3"
  },
  "language_info": {
   "codemirror_mode": {
    "name": "ipython",
    "version": 3
   },
   "file_extension": ".py",
   "mimetype": "text/x-python",
   "name": "python",
   "nbconvert_exporter": "python",
   "pygments_lexer": "ipython3",
   "version": "3.7.4"
  }
 },
 "nbformat": 4,
 "nbformat_minor": 4
}
